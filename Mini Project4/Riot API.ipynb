{
 "cells": [
  {
   "cell_type": "code",
   "execution_count": 1,
   "metadata": {},
   "outputs": [],
   "source": [
    "import requests\n",
    "from datetime import datetime, timedelta\n",
    "import time\n",
    "import json\n",
    "import sqlite3\n",
    "import os\n",
    "from tqdm import tqdm\n",
    "import pandas as pd\n",
    "# import psycopg2"
   ]
  },
  {
   "cell_type": "code",
   "execution_count": 2,
   "metadata": {},
   "outputs": [],
   "source": [
    "api_key = \"RGAPI-edb938b7-46f3-4bf5-8685-7ee6b6bcfd00\"\n",
    "headers = {\n",
    "    \"X-Riot-Token\": api_key\n",
    "}"
   ]
  },
  {
   "cell_type": "code",
   "execution_count": 103,
   "metadata": {},
   "outputs": [],
   "source": [
    "# 챌린저, 그랜드마스터, 마스터 구간 솔로 랭크 게임을 플레이한 유저 정보 추출 // summonerId, summonerName, tier\n",
    "user_info = []\n",
    "info_to_extract = ['summonerId','summonerName','tier']\n",
    "tier_list = ['challenger','grandmaster','master']\n",
    "\n",
    "for tier in tier_list:\n",
    "    url = f\"https://kr.api.riotgames.com/lol/league/v4/{tier}leagues/by-queue/RANKED_SOLO_5x5\"\n",
    "    response = requests.get(url, headers=headers)\n",
    "\n",
    "    user_tier = response.json()['tier']\n",
    "    documents = response.json()['entries']\n",
    "    for document in documents:\n",
    "        document['tier'] = user_tier\n",
    "        user_info.append({key: value for key, value in document.items() if key in info_to_extract})\n"
   ]
  },
  {
   "cell_type": "code",
   "execution_count": 110,
   "metadata": {},
   "outputs": [
    {
     "name": "stderr",
     "output_type": "stream",
     "text": [
      "Processing Documents:  83%|████████▎ | 11532/13816 [3:58:50<47:18,  1.24s/it]   \n"
     ]
    }
   ],
   "source": [
    "# Match Id 정보 수집을 위해 summonerName 활용 PUUID(유저 고유식별번호) 수집\n",
    "\n",
    "not_found_summoner = []\n",
    "\n",
    "# 사용할 수 있는 프로그레스 바 초기화\n",
    "progress_bar = tqdm(total=len(user_info), desc='Processing Documents')\n",
    "\n",
    "for document in user_info:\n",
    "    summonerName = document['summonerName']\n",
    "    url_1 = f\"https://kr.api.riotgames.com/lol/summoner/v4/summoners/by-name/{summonerName}\"\n",
    "    response_1 = requests.get(url_1, headers=headers)\n",
    "    \n",
    "    if response_1.status_code == 200:\n",
    "        document['puuid'] = response_1.json().get('puuid')\n",
    "            \n",
    "    elif response_1.status_code == 429:\n",
    "        # Rate limit exceeded 에러인 경우, 주기마다 한 번씩 출력하고 rate limit을 기다림\n",
    "        time.sleep(5)\n",
    "        continue\n",
    "    elif response_1.status_code == 404:\n",
    "        # 404 에러인 경우, 에러 메시지를 출력하지 않고 진행\n",
    "        not_found_summoner.append(summonerName)\n",
    "        continue\n",
    "    else:\n",
    "        # 다른 상태 코드에 대한 처리\n",
    "        print(f\"Error {response_1.status_code} occurred for summoner: {summonerName}\")\n",
    "        continue\n",
    "    \n",
    "    # 처리된 document에 대한 프로그레스 바 업데이트\n",
    "    progress_bar.update(1)\n",
    "\n",
    "# 프로그레스 바 종료\n",
    "progress_bar.close()"
   ]
  },
  {
   "cell_type": "code",
   "execution_count": 157,
   "metadata": {},
   "outputs": [],
   "source": [
    "# 누락된 데이터 검색 및 제거\n",
    "missing_data = []\n",
    "for i in user_info:\n",
    "    if 'puuid' not in i.keys():\n",
    "        missing_data.append(i['summonerName'])\n",
    "\n",
    "excluded_names = list(set(not_found_summoner) | set(missing_data))\n",
    "\n",
    "filtered_data = [info for info in user_info_1 if info['summonerName'] not in excluded_names]"
   ]
  },
  {
   "cell_type": "code",
   "execution_count": 167,
   "metadata": {},
   "outputs": [],
   "source": [
    "# 중간저장\n",
    "json_file_path = f\"{os.getcwd()}/user_info.json\"\n",
    "with open(json_file_path, 'w') as json_file:\n",
    "    json.dump(filtered_data, json_file, indent=4)"
   ]
  },
  {
   "cell_type": "code",
   "execution_count": 4,
   "metadata": {},
   "outputs": [],
   "source": [
    "# 불러오기\n",
    "json_file_path = f\"{os.getcwd()}/user_info.json\"\n",
    "with open(json_file_path, 'r') as file:\n",
    "    user_info = json.load(file)\n",
    "\n",
    "    "
   ]
  },
  {
   "cell_type": "code",
   "execution_count": 195,
   "metadata": {},
   "outputs": [
    {
     "name": "stderr",
     "output_type": "stream",
     "text": [
      "Processing Documents:  85%|████████▍ | 9799/11543 [3:18:19<35:17,  1.21s/it]   \n"
     ]
    }
   ],
   "source": [
    "# puuid 활용 matchId 수집\n",
    "match_info = []\n",
    "no_play_summoner = []\n",
    "\n",
    "# 사용할 수 있는 프로그레스 바 초기화\n",
    "progress_bar = tqdm(total=len(user_info), desc='Processing Documents')\n",
    "\n",
    "for document in user_info:\n",
    "    puuid = document['puuid']\n",
    "    url_2 = f\"https://asia.api.riotgames.com/lol/match/v5/matches/by-puuid/{puuid}/ids\"\n",
    "    response_2 = requests.get(url_2, headers=headers)\n",
    "    \n",
    "    if response_2.status_code == 200:\n",
    "        match_info.append({'puuid': puuid, 'match': response_2.json()})\n",
    "            \n",
    "    elif response_2.status_code == 429:\n",
    "        # Rate limit exceeded 에러인 경우, 주기마다 한 번씩 출력하고 rate limit을 기다림\n",
    "        time.sleep(5)\n",
    "        continue\n",
    "    elif response_2.status_code == 404:\n",
    "        # 404 에러인 경우, 에러 메시지를 출력하지 않고 진행\n",
    "        no_play_summoner.append(puuid)\n",
    "        continue\n",
    "    else:\n",
    "        # 다른 상태 코드에 대한 처리\n",
    "        print(f\"Error {response_2.status_code} occurred summonerName: {document['summonerName']}, puuid: {puuid}\")\n",
    "        continue\n",
    "    \n",
    "    # 처리된 document에 대한 프로그레스 바 업데이트\n",
    "    progress_bar.update(1)\n",
    "\n",
    "# 프로그레스 바 종료\n",
    "progress_bar.close()"
   ]
  },
  {
   "cell_type": "code",
   "execution_count": 198,
   "metadata": {},
   "outputs": [],
   "source": [
    "# 중간저장\n",
    "json_file_path = f\"{os.getcwd()}/match_info.json\"\n",
    "with open(json_file_path, 'w') as json_file:\n",
    "    json.dump(match_info, json_file, indent=4)"
   ]
  },
  {
   "cell_type": "code",
   "execution_count": 156,
   "metadata": {},
   "outputs": [],
   "source": [
    "# 불러오기\n",
    "json_file_path = f\"{os.getcwd()}/match_info.json\"\n",
    "with open(json_file_path, 'r') as file:\n",
    "    match_info = json.load(file)"
   ]
  },
  {
   "cell_type": "code",
   "execution_count": 21,
   "metadata": {},
   "outputs": [],
   "source": [
    "# matchId 중복 제거 / 리스트화\n",
    "match_list = []\n",
    "for document in match_info:\n",
    "    for match in document['match']:\n",
    "        match_list.append(match)\n",
    "match_list = list(set(match_list))"
   ]
  },
  {
   "cell_type": "code",
   "execution_count": 62,
   "metadata": {},
   "outputs": [
    {
     "name": "stderr",
     "output_type": "stream",
     "text": [
      "Processing Documents:  88%|████████▊ | 35313/40000 [12:27:08<1:39:09,  1.27s/it]   \n"
     ]
    }
   ],
   "source": [
    "# Timeline 데이터 수집에 시간 소요가 커 12만개 데이터 중 4만개 수집\n",
    "match_list_sm = match_list[:40000]\n",
    "len(match_list_sm)\n",
    "\n",
    "# Timeline 데이터 수집\n",
    "timeline = []\n",
    "\n",
    "# 사용할 수 있는 프로그레스 바 초기화\n",
    "progress_bar = tqdm(total=len(match_list_sm), desc='Processing Documents')\n",
    "\n",
    "for matchId in match_list_sm:\n",
    "    url_3 = f\"https://asia.api.riotgames.com/lol/match/v5/matches/{matchId}/timeline\"\n",
    "    response_3 = requests.get(url_3, headers=headers)\n",
    "    \n",
    "    if response_3.status_code == 200:\n",
    "        timeline.append(response_3.json())\n",
    "            \n",
    "    elif response_3.status_code == 429:\n",
    "        # Rate limit exceeded 에러인 경우, 주기마다 한 번씩 출력하고 rate limit을 기다림\n",
    "        time.sleep(5)\n",
    "        continue\n",
    "    elif response_3.status_code == 404:\n",
    "        # 404 에러인 경우, 에러 메시지를 출력하지 않고 진행\n",
    "\n",
    "        continue\n",
    "    else:\n",
    "        # 다른 상태 코드에 대한 처리\n",
    "        print(f\"Error {response_3.status_code} occurred matchId: {matchId}\")\n",
    "        continue\n",
    "    \n",
    "    # 처리된 document에 대한 프로그레스 바 업데이트\n",
    "    progress_bar.update(1)\n",
    "\n",
    "# 프로그레스 바 종료\n",
    "progress_bar.close()\n",
    "\n",
    "# 전체 데이터는 dictionary 구조 이며 'metadata'와 'info' 항목으로 구성된다.\n",
    "# 'metadata' 항목에서 가져가야할 데이터는 'matchId' : str / 'participants(puuid) : list (1~5 / 6~10 두 팀으로 이뤄짐)\n",
    "# test['metadata']['matchId'] / test['metadata']['participants']\n",
    "# 'info'를 살펴봤을 때 각 데이터는 1분 동안 발생한 이벤트로 기록되어있음.\n",
    "# 예시로 test 데이터는 36개의 이벤트로 약 36분 동안 게임이 진행되었음을 알 수 있다. # len(test['info']['frames'])\n",
    "\n",
    "# 중간저장\n",
    "json_file_path = f\"{os.getcwd()}/timeline.json\"\n",
    "with open(json_file_path, 'w') as json_file:\n",
    "    json.dump(timeline, json_file, indent=4)\n",
    "\n",
    "# 불러오기\n",
    "json_file_path = f\"{os.getcwd()}/timeline.json\"\n",
    "with open(json_file_path, 'r') as file:\n",
    "    timeline = json.load(file)"
   ]
  },
  {
   "cell_type": "code",
   "execution_count": 323,
   "metadata": {},
   "outputs": [
    {
     "name": "stderr",
     "output_type": "stream",
     "text": [
      "Processing Documents:  86%|████████▋ | 30475/35313 [10:35:42<1:40:55,  1.25s/it]   \n"
     ]
    }
   ],
   "source": [
    "# timeline 데이터 양(51GB), 분석을 고려했을 때 시간이 부족할 것이라고 판단하여, 주제 변경\n",
    "\n",
    "# timeline 데이터 수집 중단으로 수집된 데이터 기준으로 추출\n",
    "matchId_list = [i['metadata']['matchId'] for i in timeline]\n",
    "\n",
    "# game 데이터 수집\n",
    "game_info = []\n",
    "selected_keys = ['gameId', 'participants', 'teams']\n",
    "\n",
    "# game_info.append(response_4.json())\n",
    "\n",
    "# 사용할 수 있는 프로그레스 바 초기화\n",
    "progress_bar = tqdm(total=len(matchId_list), desc='Processing Documents')\n",
    "\n",
    "for matchId in matchId_list:\n",
    "    url_4 = f\"https://asia.api.riotgames.com/lol/match/v5/matches/{matchId}\"\n",
    "    response_4 = requests.get(url_4, headers=headers)\n",
    "    \n",
    "    if response_4.status_code == 200:\n",
    "        data = response_4.json()\n",
    "        game_info.append({key: data['info'][key] for key in selected_keys if key in data['info']})\n",
    "            \n",
    "    elif response_4.status_code == 429:\n",
    "        # Rate limit exceeded 에러인 경우, 주기마다 한 번씩 출력하고 rate limit을 기다림\n",
    "        time.sleep(5)\n",
    "        continue\n",
    "    elif response_4.status_code == 404:\n",
    "        # 404 에러인 경우, 에러 메시지를 출력하지 않고 진행\n",
    "\n",
    "        continue\n",
    "    else:\n",
    "        # 다른 상태 코드에 대한 처리\n",
    "        print(f\"Error {response_4.status_code} occurred matchId: {matchId}\")\n",
    "        continue\n",
    "    \n",
    "    # 처리된 document에 대한 프로그레스 바 업데이트\n",
    "    progress_bar.update(1)\n",
    "\n",
    "# 프로그레스 바 종료\n",
    "progress_bar.close()"
   ]
  },
  {
   "cell_type": "code",
   "execution_count": 324,
   "metadata": {},
   "outputs": [],
   "source": [
    "# 중간저장\n",
    "json_file_path = f\"{os.getcwd()}/game_info.json\"\n",
    "with open(json_file_path, 'w') as json_file:\n",
    "    json.dump(game_info, json_file, indent=4)"
   ]
  },
  {
   "cell_type": "code",
   "execution_count": 8,
   "metadata": {},
   "outputs": [],
   "source": [
    "# 불러오기\n",
    "json_file_path = f\"{os.getcwd()}/game_info.json\"\n",
    "with open(json_file_path, 'r') as file:\n",
    "    game_info = json.load(file)\n",
    "    "
   ]
  },
  {
   "cell_type": "code",
   "execution_count": 22,
   "metadata": {},
   "outputs": [],
   "source": [
    "# Game Platform 정보 붙여주기\n",
    "for document in game_info:\n",
    "    document['gameId'] = f\"KR_{document['gameId']}\""
   ]
  },
  {
   "cell_type": "code",
   "execution_count": 137,
   "metadata": {},
   "outputs": [],
   "source": [
    "# 데이터 학습 및 데이터베이스 업로드에 사용할 데이터 추출\n",
    "participant_list = ['assists','deaths','champLevel','goldEarned']\n",
    "game_result = []\n",
    "for document in game_info:\n",
    "    # partipant 항목 중 필요한 데이터 수집\n",
    "    blue_team = [sum([participant[idx] for participant in document['participants'][:5]]) for idx in participant_list]\n",
    "    red_team = [sum([participant[idx] for participant in document['participants'][5:10]]) for idx in participant_list]\n",
    "    # team 항목 중 필요한 데이터 추가\n",
    "    blue_team.extend([int(item) for sublist in document['teams'][0]['objectives'].values() for item in sublist.values()])\n",
    "    red_team.extend([int(item) for sublist in document['teams'][1]['objectives'].values() for item in sublist.values()])\n",
    "    # 블루, 레드팀 데이터 통합\n",
    "    result = blue_team+red_team\n",
    "    # gameId 추가\n",
    "    result.append(document['gameId'])\n",
    "    # 블루팀 기준으로 승,패 레이블 추가\n",
    "    result.append(int(document['teams'][0]['win']))\n",
    "    game_result.append(result)"
   ]
  },
  {
   "cell_type": "code",
   "execution_count": 130,
   "metadata": {},
   "outputs": [],
   "source": [
    "# Column 이름 설정\n",
    "col_name = ['Blue_Assists','Blue_Deaths','Blue_Total_Level','Blue_Total_gold','Blue_first_baron','Blue_baron_kills','Blue_first_blood','Blue_Kills','Blue_first_dragon','Blue_dragon_kills',\n",
    "'Blue_first_inhibitor','Blue_inhibitor_destroyed','Blue_first_riftherald','Blue_riftherald_kills','Blue_first_tower','Blue_tower_destroyed',\n",
    "'Red_Assists','Red_Deaths','Red_Total_Level','Red_Total_gold','Red_first_baron','Red_baron_kills','Red_first_blood','Red_Kills','Red_first_dragon','Red_dragon_kills',\n",
    "'Red_first_inhibitor','Red_inhibitor_destroyed','Red_first_riftherald','Red_riftherald_kills','Red_first_tower','Red_tower_destroyed','GameId','Win']\n",
    "# DataFrame\n",
    "data = pd.DataFrame(game_result,columns=col_name)\n",
    "data = data[['GameId','Blue_Kills','Blue_Assists','Blue_Deaths','Blue_Total_Level','Blue_Total_gold','Blue_first_blood','Blue_first_dragon','Blue_dragon_kills','Blue_first_riftherald','Blue_riftherald_kills',\n",
    "'Blue_first_baron','Blue_baron_kills','Blue_first_tower','Blue_tower_destroyed','Blue_first_inhibitor','Blue_inhibitor_destroyed',\n",
    "'Red_Kills','Red_Assists','Red_Deaths','Red_Total_Level','Red_Total_gold','Red_first_blood','Red_first_dragon','Red_dragon_kills','Red_first_riftherald','Red_riftherald_kills',\n",
    "'Red_first_baron','Red_baron_kills','Red_first_tower','Red_tower_destroyed','Red_first_inhibitor','Red_inhibitor_destroyed','Win']]"
   ]
  },
  {
   "cell_type": "code",
   "execution_count": 163,
   "metadata": {},
   "outputs": [],
   "source": [
    "# dictionary value 값으로 list 형식의 데이터는 삽입 불가능하여 matchid 쪼개기\n",
    "match_result = []\n",
    "for document in match_info:\n",
    "    for match_id in document['match']:\n",
    "        match_result.append({'puuid': document['puuid'], 'match': match_id})\n",
    "match_info = match_result"
   ]
  },
  {
   "cell_type": "code",
   "execution_count": 169,
   "metadata": {},
   "outputs": [],
   "source": [
    "user_info = pd.DataFrame(user_info)\n",
    "match_info = pd.DataFrame(match_info)\n",
    "\n",
    "# SQLite 데이터베이스에 연결\n",
    "conn = sqlite3.connect('LOL.db')\n",
    "\n",
    "# 데이터프레임을 SQLite 데이터베이스에 테이블로 저장\n",
    "user_info.to_sql('user_info', conn, if_exists='replace', index=False)\n",
    "match_info.to_sql('match_info', conn, if_exists='replace', index=False)\n",
    "data.to_sql('game_info', conn, if_exists='replace', index=False)\n",
    "\n",
    "# 연결 종료\n",
    "conn.close()"
   ]
  },
  {
   "cell_type": "code",
   "execution_count": 168,
   "metadata": {},
   "outputs": [],
   "source": [
    "# csv 파일 저장\n",
    "user_info.to_csv(f\"{os.getcwd()}/user_info.csv\", index=False)\n",
    "match_info.to_csv(f\"{os.getcwd()}/match_info.csv\", index=False)\n",
    "data.to_csv(f\"{os.getcwd()}/game_info.csv\", index=False)"
   ]
  },
  {
   "attachments": {},
   "cell_type": "markdown",
   "metadata": {},
   "source": [
    "# 참고"
   ]
  },
  {
   "cell_type": "code",
   "execution_count": 156,
   "metadata": {},
   "outputs": [
    {
     "data": {
      "text/plain": [
       "11543"
      ]
     },
     "execution_count": 156,
     "metadata": {},
     "output_type": "execute_result"
    }
   ],
   "source": [
    "# Riot Developer\n",
    "https://developer.riotgames.com/apis#match-v5/GET_getMatch\n",
    "# puuid 활용 match id 추출\n",
    "https://cestmavie.tistory.com/64\n",
    "# LOL Match 데이터 활용 승부 예측\n",
    "https://star7sss.tistory.com/372\n",
    "# Flask / upload image and display\n",
    "https://stackoverflow.com/questions/63507504/python-flask-app-upload-image-and-display\n",
    "# SQLite 코드 작성 참고\n",
    "https://github.com/jjlee93/ds-sa-db-api/blob/main/src/Part_3.py"
   ]
  },
  {
   "cell_type": "code",
   "execution_count": 115,
   "metadata": {},
   "outputs": [
    {
     "data": {
      "text/plain": [
       "0"
      ]
     },
     "execution_count": 115,
     "metadata": {},
     "output_type": "execute_result"
    }
   ],
   "source": [
    "# PostgreSQL\n",
    "# ElephantSQL 용량 부족\n",
    "host=\"drona.db.elephantsql.com\"\n",
    "user=\"eabonfbm\"\n",
    "password=\"i2ZqUVIzbp7v05NjjwJDXLTJDPnPlJsY\"\n",
    "database=\"eabonfbm\"\n",
    "\n",
    "connection = psycopg2.connect(\n",
    "    host=host,\n",
    "    user=user,\n",
    "    password=password,\n",
    "    database=database\n",
    ")\n",
    "\n",
    "cur = connection.cursor()\n",
    "\n",
    "cur.execute(\"DROP TABLE IF EXISTS user_info;\")\n",
    "cur.execute(\"\"\"\n",
    "CREATE TABLE user_info (\n",
    "    puuid VARCHAR(100),\n",
    "    summoner_name VARCHAR(100),\n",
    "    summoner_id VARCHAR,\n",
    "    tier VARCHAR(20)\n",
    "    \n",
    "    \n",
    "    )\n",
    "\"\"\")\n",
    "for row in user_info[:20]:\n",
    "    cur.execute(f\"INSERT INTO user_info (puuid, summoner_name, summoner_id, tier) VALUES ('{row['puuid']}','{row['summonerName']}','{row['summonerId']}','{row['tier']}')\")\n",
    "\n",
    "connection.commit()"
   ]
  },
  {
   "cell_type": "code",
   "execution_count": 145,
   "metadata": {},
   "outputs": [],
   "source": [
    "# SQLite\n",
    "\n",
    "DB_FILENAME = 'LOL.db'\n",
    "DB_FILEPATH = os.path.join(os.getcwd(), DB_FILENAME)\n",
    "conn = sqlite3.connect(DB_FILEPATH)\n",
    "\n",
    "cur = conn.cursor()\n",
    "\n",
    "cur.execute(\"DROP TABLE IF EXISTS user_info;\")\n",
    "cur.execute(\"\"\"\n",
    "CREATE TABLE user_info (\n",
    "    puuid VARCHAR(100),\n",
    "    summoner_name VARCHAR(100),\n",
    "    summoner_id VARCHAR,\n",
    "    tier VARCHAR(20)\n",
    "    \n",
    "    \n",
    "    )\n",
    "\"\"\")\n",
    "for row in user_info:\n",
    "    cur.execute(f\"INSERT INTO user_info (puuid, summoner_name, summoner_id, tier) VALUES ('{row['puuid']}','{row['summonerName']}','{row['summonerId']}','{row['tier']}')\")\n",
    "\n",
    "conn.commit()"
   ]
  }
 ],
 "metadata": {
  "kernelspec": {
   "display_name": "Section4_project",
   "language": "python",
   "name": "python3"
  },
  "language_info": {
   "codemirror_mode": {
    "name": "ipython",
    "version": 3
   },
   "file_extension": ".py",
   "mimetype": "text/x-python",
   "name": "python",
   "nbconvert_exporter": "python",
   "pygments_lexer": "ipython3",
   "version": "3.8.0"
  },
  "orig_nbformat": 4
 },
 "nbformat": 4,
 "nbformat_minor": 2
}
