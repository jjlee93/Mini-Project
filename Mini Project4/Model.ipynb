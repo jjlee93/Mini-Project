{
 "cells": [
  {
   "cell_type": "code",
   "execution_count": 4,
   "metadata": {},
   "outputs": [
    {
     "name": "stderr",
     "output_type": "stream",
     "text": [
      "c:\\Users\\pc\\anaconda3\\envs\\Section4_project\\lib\\site-packages\\tqdm\\auto.py:21: TqdmWarning: IProgress not found. Please update jupyter and ipywidgets. See https://ipywidgets.readthedocs.io/en/stable/user_install.html\n",
      "  from .autonotebook import tqdm as notebook_tqdm\n"
     ]
    }
   ],
   "source": [
    "import pandas as pd\n",
    "import numpy as np\n",
    "from sklearn.model_selection import train_test_split\n",
    "from sklearn.metrics import accuracy_score, f1_score, roc_auc_score, classification_report\n",
    "from sklearn.ensemble import RandomForestClassifier\n",
    "from xgboost import XGBClassifier\n",
    "from sklearn.preprocessing import MinMaxScaler, StandardScaler, RobustScaler\n",
    "import optuna\n",
    "from optuna import Trial, visualization\n",
    "from optuna.samplers import TPESampler\n",
    "import pickle\n",
    "# pd.set_option('display.max_column', None)"
   ]
  },
  {
   "cell_type": "code",
   "execution_count": 5,
   "metadata": {},
   "outputs": [],
   "source": [
    "data = pd.read_csv('./game_info.csv')"
   ]
  },
  {
   "cell_type": "code",
   "execution_count": 6,
   "metadata": {},
   "outputs": [],
   "source": [
    "feature = data.iloc[:,1:-1]\n",
    "target = data['Win']\n",
    "X_train, X_test, y_train, y_test = train_test_split(feature, target, test_size=0.2)\n",
    "X_train, X_val, y_train, y_val = train_test_split(X_train, y_train, test_size=0.2)"
   ]
  },
  {
   "cell_type": "code",
   "execution_count": 10,
   "metadata": {},
   "outputs": [
    {
     "data": {
      "text/plain": [
       "((19504, 32), (4876, 32), (6095, 32))"
      ]
     },
     "execution_count": 10,
     "metadata": {},
     "output_type": "execute_result"
    }
   ],
   "source": [
    "X_train.shape, X_val.shape, X_test.shape"
   ]
  },
  {
   "cell_type": "code",
   "execution_count": 18,
   "metadata": {},
   "outputs": [
    {
     "name": "stderr",
     "output_type": "stream",
     "text": [
      "[I 2023-06-18 20:55:44,177] A new study created in memory with name: no-name-28469130-7ac7-473e-987e-0f47b38b72fa\n",
      "[I 2023-06-18 20:55:47,302] Trial 0 finished with value: 0.980753267204241 and parameters: {'n_estimators': 835, 'criterion': 'gini', 'max_depth': 8, 'min_samples_split': 13, 'oob_score': False}. Best is trial 0 with value: 0.980753267204241.\n",
      "c:\\Users\\pc\\anaconda3\\envs\\Section4_project\\lib\\site-packages\\optuna\\trial\\_trial.py:677: RuntimeWarning: Inconsistent parameter values for distribution with name \"min_samples_split\"! This might be a configuration mistake. Optuna allows to call the same distribution with the same name more than once in a trial. When the parameter values are inconsistent optuna only uses the values of the first call and ignores all following. Using these values: {'log': False, 'step': 1, 'low': 2, 'high': 15}\n",
      "  warnings.warn(\n",
      "[I 2023-06-18 20:55:50,740] Trial 1 finished with value: 0.9809554507869342 and parameters: {'n_estimators': 914, 'criterion': 'gini', 'max_depth': 8, 'min_samples_split': 10, 'oob_score': False}. Best is trial 1 with value: 0.9809554507869342.\n",
      "c:\\Users\\pc\\anaconda3\\envs\\Section4_project\\lib\\site-packages\\optuna\\trial\\_trial.py:677: RuntimeWarning: Inconsistent parameter values for distribution with name \"min_samples_split\"! This might be a configuration mistake. Optuna allows to call the same distribution with the same name more than once in a trial. When the parameter values are inconsistent optuna only uses the values of the first call and ignores all following. Using these values: {'log': False, 'step': 1, 'low': 2, 'high': 15}\n",
      "  warnings.warn(\n",
      "[I 2023-06-18 20:55:54,071] Trial 2 finished with value: 0.9821921109194448 and parameters: {'n_estimators': 802, 'criterion': 'gini', 'max_depth': 10, 'min_samples_split': 7, 'oob_score': False}. Best is trial 2 with value: 0.9821921109194448.\n",
      "c:\\Users\\pc\\anaconda3\\envs\\Section4_project\\lib\\site-packages\\optuna\\trial\\_trial.py:677: RuntimeWarning: Inconsistent parameter values for distribution with name \"min_samples_split\"! This might be a configuration mistake. Optuna allows to call the same distribution with the same name more than once in a trial. When the parameter values are inconsistent optuna only uses the values of the first call and ignores all following. Using these values: {'log': False, 'step': 1, 'low': 2, 'high': 15}\n",
      "  warnings.warn(\n",
      "[I 2023-06-18 20:56:01,325] Trial 3 finished with value: 0.9752236345624714 and parameters: {'n_estimators': 1371, 'criterion': 'gini', 'max_depth': 6, 'min_samples_split': 6, 'oob_score': True}. Best is trial 2 with value: 0.9821921109194448.\n",
      "c:\\Users\\pc\\anaconda3\\envs\\Section4_project\\lib\\site-packages\\optuna\\trial\\_trial.py:677: RuntimeWarning: Inconsistent parameter values for distribution with name \"min_samples_split\"! This might be a configuration mistake. Optuna allows to call the same distribution with the same name more than once in a trial. When the parameter values are inconsistent optuna only uses the values of the first call and ignores all following. Using these values: {'log': False, 'step': 1, 'low': 2, 'high': 15}\n",
      "  warnings.warn(\n",
      "[I 2023-06-18 20:56:04,261] Trial 4 finished with value: 0.9172282456607095 and parameters: {'n_estimators': 1017, 'criterion': 'gini', 'max_depth': 1, 'min_samples_split': 10, 'oob_score': False}. Best is trial 2 with value: 0.9821921109194448.\n",
      "c:\\Users\\pc\\anaconda3\\envs\\Section4_project\\lib\\site-packages\\optuna\\trial\\_trial.py:677: RuntimeWarning: Inconsistent parameter values for distribution with name \"min_samples_split\"! This might be a configuration mistake. Optuna allows to call the same distribution with the same name more than once in a trial. When the parameter values are inconsistent optuna only uses the values of the first call and ignores all following. Using these values: {'log': False, 'step': 1, 'low': 2, 'high': 15}\n",
      "  warnings.warn(\n",
      "[I 2023-06-18 20:56:04,982] Trial 5 finished with value: 0.9407326130111994 and parameters: {'n_estimators': 148, 'criterion': 'entropy', 'max_depth': 3, 'min_samples_split': 4, 'oob_score': True}. Best is trial 2 with value: 0.9821921109194448.\n",
      "c:\\Users\\pc\\anaconda3\\envs\\Section4_project\\lib\\site-packages\\optuna\\trial\\_trial.py:677: RuntimeWarning: Inconsistent parameter values for distribution with name \"min_samples_split\"! This might be a configuration mistake. Optuna allows to call the same distribution with the same name more than once in a trial. When the parameter values are inconsistent optuna only uses the values of the first call and ignores all following. Using these values: {'log': False, 'step': 1, 'low': 2, 'high': 15}\n",
      "  warnings.warn(\n",
      "[I 2023-06-18 20:56:07,458] Trial 6 finished with value: 0.9697116708979661 and parameters: {'n_estimators': 742, 'criterion': 'entropy', 'max_depth': 5, 'min_samples_split': 3, 'oob_score': False}. Best is trial 2 with value: 0.9821921109194448.\n",
      "c:\\Users\\pc\\anaconda3\\envs\\Section4_project\\lib\\site-packages\\optuna\\trial\\_trial.py:677: RuntimeWarning: Inconsistent parameter values for distribution with name \"min_samples_split\"! This might be a configuration mistake. Optuna allows to call the same distribution with the same name more than once in a trial. When the parameter values are inconsistent optuna only uses the values of the first call and ignores all following. Using these values: {'log': False, 'step': 1, 'low': 2, 'high': 15}\n",
      "  warnings.warn(\n",
      "[I 2023-06-18 20:56:09,623] Trial 7 finished with value: 0.9828104409857001 and parameters: {'n_estimators': 366, 'criterion': 'gini', 'max_depth': 9, 'min_samples_split': 6, 'oob_score': True}. Best is trial 7 with value: 0.9828104409857001.\n",
      "c:\\Users\\pc\\anaconda3\\envs\\Section4_project\\lib\\site-packages\\optuna\\trial\\_trial.py:677: RuntimeWarning: Inconsistent parameter values for distribution with name \"min_samples_split\"! This might be a configuration mistake. Optuna allows to call the same distribution with the same name more than once in a trial. When the parameter values are inconsistent optuna only uses the values of the first call and ignores all following. Using these values: {'log': False, 'step': 1, 'low': 2, 'high': 15}\n",
      "  warnings.warn(\n",
      "[I 2023-06-18 20:56:10,306] Trial 8 finished with value: 0.9797070113362475 and parameters: {'n_estimators': 113, 'criterion': 'gini', 'max_depth': 8, 'min_samples_split': 9, 'oob_score': True}. Best is trial 7 with value: 0.9828104409857001.\n",
      "c:\\Users\\pc\\anaconda3\\envs\\Section4_project\\lib\\site-packages\\optuna\\trial\\_trial.py:677: RuntimeWarning: Inconsistent parameter values for distribution with name \"min_samples_split\"! This might be a configuration mistake. Optuna allows to call the same distribution with the same name more than once in a trial. When the parameter values are inconsistent optuna only uses the values of the first call and ignores all following. Using these values: {'log': False, 'step': 1, 'low': 2, 'high': 15}\n",
      "  warnings.warn(\n",
      "[I 2023-06-18 20:56:11,887] Trial 9 finished with value: 0.9699020751624831 and parameters: {'n_estimators': 441, 'criterion': 'entropy', 'max_depth': 5, 'min_samples_split': 9, 'oob_score': False}. Best is trial 7 with value: 0.9828104409857001.\n",
      "c:\\Users\\pc\\anaconda3\\envs\\Section4_project\\lib\\site-packages\\optuna\\trial\\_trial.py:677: RuntimeWarning: Inconsistent parameter values for distribution with name \"min_samples_split\"! This might be a configuration mistake. Optuna allows to call the same distribution with the same name more than once in a trial. When the parameter values are inconsistent optuna only uses the values of the first call and ignores all following. Using these values: {'log': False, 'step': 1, 'low': 2, 'high': 15}\n",
      "  warnings.warn(\n",
      "[I 2023-06-18 20:56:14,397] Trial 10 finished with value: 0.9821744419421807 and parameters: {'n_estimators': 425, 'criterion': 'entropy', 'max_depth': 10, 'min_samples_split': 14, 'oob_score': True}. Best is trial 7 with value: 0.9828104409857001.\n",
      "c:\\Users\\pc\\anaconda3\\envs\\Section4_project\\lib\\site-packages\\optuna\\trial\\_trial.py:677: RuntimeWarning: Inconsistent parameter values for distribution with name \"min_samples_split\"! This might be a configuration mistake. Optuna allows to call the same distribution with the same name more than once in a trial. When the parameter values are inconsistent optuna only uses the values of the first call and ignores all following. Using these values: {'log': False, 'step': 1, 'low': 2, 'high': 15}\n",
      "  warnings.warn(\n",
      "[I 2023-06-18 20:56:17,645] Trial 11 finished with value: 0.9832206978101743 and parameters: {'n_estimators': 548, 'criterion': 'gini', 'max_depth': 10, 'min_samples_split': 5, 'oob_score': True}. Best is trial 11 with value: 0.9832206978101743.\n",
      "c:\\Users\\pc\\anaconda3\\envs\\Section4_project\\lib\\site-packages\\optuna\\trial\\_trial.py:677: RuntimeWarning: Inconsistent parameter values for distribution with name \"min_samples_split\"! This might be a configuration mistake. Optuna allows to call the same distribution with the same name more than once in a trial. When the parameter values are inconsistent optuna only uses the values of the first call and ignores all following. Using these values: {'log': False, 'step': 1, 'low': 2, 'high': 15}\n",
      "  warnings.warn(\n",
      "[I 2023-06-18 20:56:20,880] Trial 12 finished with value: 0.9830126245683931 and parameters: {'n_estimators': 542, 'criterion': 'gini', 'max_depth': 10, 'min_samples_split': 5, 'oob_score': True}. Best is trial 11 with value: 0.9832206978101743.\n",
      "c:\\Users\\pc\\anaconda3\\envs\\Section4_project\\lib\\site-packages\\optuna\\trial\\_trial.py:677: RuntimeWarning: Inconsistent parameter values for distribution with name \"min_samples_split\"! This might be a configuration mistake. Optuna allows to call the same distribution with the same name more than once in a trial. When the parameter values are inconsistent optuna only uses the values of the first call and ignores all following. Using these values: {'log': False, 'step': 1, 'low': 2, 'high': 15}\n",
      "  warnings.warn(\n",
      "[I 2023-06-18 20:56:24,100] Trial 13 finished with value: 0.9791122399063443 and parameters: {'n_estimators': 588, 'criterion': 'gini', 'max_depth': 7, 'min_samples_split': 2, 'oob_score': True}. Best is trial 11 with value: 0.9832206978101743.\n",
      "c:\\Users\\pc\\anaconda3\\envs\\Section4_project\\lib\\site-packages\\optuna\\trial\\_trial.py:677: RuntimeWarning: Inconsistent parameter values for distribution with name \"min_samples_split\"! This might be a configuration mistake. Optuna allows to call the same distribution with the same name more than once in a trial. When the parameter values are inconsistent optuna only uses the values of the first call and ignores all following. Using these values: {'log': False, 'step': 1, 'low': 2, 'high': 15}\n",
      "  warnings.warn(\n",
      "[I 2023-06-18 20:56:31,206] Trial 14 finished with value: 0.9828104409857001 and parameters: {'n_estimators': 1189, 'criterion': 'gini', 'max_depth': 10, 'min_samples_split': 5, 'oob_score': True}. Best is trial 11 with value: 0.9832206978101743.\n",
      "c:\\Users\\pc\\anaconda3\\envs\\Section4_project\\lib\\site-packages\\optuna\\trial\\_trial.py:677: RuntimeWarning: Inconsistent parameter values for distribution with name \"min_samples_split\"! This might be a configuration mistake. Optuna allows to call the same distribution with the same name more than once in a trial. When the parameter values are inconsistent optuna only uses the values of the first call and ignores all following. Using these values: {'log': False, 'step': 1, 'low': 2, 'high': 15}\n",
      "  warnings.warn(\n",
      "[I 2023-06-18 20:56:34,129] Trial 15 finished with value: 0.9472241111200298 and parameters: {'n_estimators': 616, 'criterion': 'gini', 'max_depth': 3, 'min_samples_split': 7, 'oob_score': True}. Best is trial 11 with value: 0.9832206978101743.\n",
      "c:\\Users\\pc\\anaconda3\\envs\\Section4_project\\lib\\site-packages\\optuna\\trial\\_trial.py:677: RuntimeWarning: Inconsistent parameter values for distribution with name \"min_samples_split\"! This might be a configuration mistake. Optuna allows to call the same distribution with the same name more than once in a trial. When the parameter values are inconsistent optuna only uses the values of the first call and ignores all following. Using these values: {'log': False, 'step': 1, 'low': 2, 'high': 15}\n",
      "  warnings.warn(\n",
      "[I 2023-06-18 20:56:35,772] Trial 16 finished with value: 0.9828104409857001 and parameters: {'n_estimators': 274, 'criterion': 'gini', 'max_depth': 9, 'min_samples_split': 4, 'oob_score': True}. Best is trial 11 with value: 0.9832206978101743.\n",
      "c:\\Users\\pc\\anaconda3\\envs\\Section4_project\\lib\\site-packages\\optuna\\trial\\_trial.py:677: RuntimeWarning: Inconsistent parameter values for distribution with name \"min_samples_split\"! This might be a configuration mistake. Optuna allows to call the same distribution with the same name more than once in a trial. When the parameter values are inconsistent optuna only uses the values of the first call and ignores all following. Using these values: {'log': False, 'step': 1, 'low': 2, 'high': 15}\n",
      "  warnings.warn(\n",
      "[I 2023-06-18 20:56:38,696] Trial 17 finished with value: 0.9793203131481254 and parameters: {'n_estimators': 543, 'criterion': 'gini', 'max_depth': 7, 'min_samples_split': 2, 'oob_score': True}. Best is trial 11 with value: 0.9832206978101743.\n",
      "c:\\Users\\pc\\anaconda3\\envs\\Section4_project\\lib\\site-packages\\optuna\\trial\\_trial.py:677: RuntimeWarning: Inconsistent parameter values for distribution with name \"min_samples_split\"! This might be a configuration mistake. Optuna allows to call the same distribution with the same name more than once in a trial. When the parameter values are inconsistent optuna only uses the values of the first call and ignores all following. Using these values: {'log': False, 'step': 1, 'low': 2, 'high': 15}\n",
      "  warnings.warn(\n",
      "[I 2023-06-18 20:56:44,628] Trial 18 finished with value: 0.9811517447105392 and parameters: {'n_estimators': 1032, 'criterion': 'entropy', 'max_depth': 9, 'min_samples_split': 12, 'oob_score': True}. Best is trial 11 with value: 0.9832206978101743.\n",
      "c:\\Users\\pc\\anaconda3\\envs\\Section4_project\\lib\\site-packages\\optuna\\trial\\_trial.py:677: RuntimeWarning: Inconsistent parameter values for distribution with name \"min_samples_split\"! This might be a configuration mistake. Optuna allows to call the same distribution with the same name more than once in a trial. When the parameter values are inconsistent optuna only uses the values of the first call and ignores all following. Using these values: {'log': False, 'step': 1, 'low': 2, 'high': 15}\n",
      "  warnings.warn(\n",
      "[I 2023-06-18 20:56:47,983] Trial 19 finished with value: 0.9605132854722809 and parameters: {'n_estimators': 694, 'criterion': 'gini', 'max_depth': 4, 'min_samples_split': 7, 'oob_score': True}. Best is trial 11 with value: 0.9832206978101743.\n",
      "c:\\Users\\pc\\anaconda3\\envs\\Section4_project\\lib\\site-packages\\optuna\\trial\\_trial.py:677: RuntimeWarning: Inconsistent parameter values for distribution with name \"min_samples_split\"! This might be a configuration mistake. Optuna allows to call the same distribution with the same name more than once in a trial. When the parameter values are inconsistent optuna only uses the values of the first call and ignores all following. Using these values: {'log': False, 'step': 1, 'low': 2, 'high': 15}\n",
      "  warnings.warn(\n",
      "[I 2023-06-18 20:56:49,179] Trial 20 finished with value: 0.9113040899980295 and parameters: {'n_estimators': 254, 'criterion': 'gini', 'max_depth': 1, 'min_samples_split': 4, 'oob_score': True}. Best is trial 11 with value: 0.9832206978101743.\n",
      "c:\\Users\\pc\\anaconda3\\envs\\Section4_project\\lib\\site-packages\\optuna\\trial\\_trial.py:677: RuntimeWarning: Inconsistent parameter values for distribution with name \"min_samples_split\"! This might be a configuration mistake. Optuna allows to call the same distribution with the same name more than once in a trial. When the parameter values are inconsistent optuna only uses the values of the first call and ignores all following. Using these values: {'log': False, 'step': 1, 'low': 2, 'high': 15}\n",
      "  warnings.warn(\n",
      "[I 2023-06-18 20:56:51,512] Trial 21 finished with value: 0.9826023677439188 and parameters: {'n_estimators': 399, 'criterion': 'gini', 'max_depth': 9, 'min_samples_split': 6, 'oob_score': True}. Best is trial 11 with value: 0.9832206978101743.\n",
      "c:\\Users\\pc\\anaconda3\\envs\\Section4_project\\lib\\site-packages\\optuna\\trial\\_trial.py:677: RuntimeWarning: Inconsistent parameter values for distribution with name \"min_samples_split\"! This might be a configuration mistake. Optuna allows to call the same distribution with the same name more than once in a trial. When the parameter values are inconsistent optuna only uses the values of the first call and ignores all following. Using these values: {'log': False, 'step': 1, 'low': 2, 'high': 15}\n",
      "  warnings.warn(\n",
      "[I 2023-06-18 20:56:53,219] Trial 22 finished with value: 0.9834346607110434 and parameters: {'n_estimators': 288, 'criterion': 'gini', 'max_depth': 10, 'min_samples_split': 5, 'oob_score': True}. Best is trial 22 with value: 0.9834346607110434.\n",
      "c:\\Users\\pc\\anaconda3\\envs\\Section4_project\\lib\\site-packages\\optuna\\trial\\_trial.py:677: RuntimeWarning: Inconsistent parameter values for distribution with name \"min_samples_split\"! This might be a configuration mistake. Optuna allows to call the same distribution with the same name more than once in a trial. When the parameter values are inconsistent optuna only uses the values of the first call and ignores all following. Using these values: {'log': False, 'step': 1, 'low': 2, 'high': 15}\n",
      "  warnings.warn(\n",
      "[I 2023-06-18 20:56:56,273] Trial 23 finished with value: 0.9830126245683931 and parameters: {'n_estimators': 507, 'criterion': 'gini', 'max_depth': 10, 'min_samples_split': 5, 'oob_score': True}. Best is trial 22 with value: 0.9834346607110434.\n",
      "c:\\Users\\pc\\anaconda3\\envs\\Section4_project\\lib\\site-packages\\optuna\\trial\\_trial.py:677: RuntimeWarning: Inconsistent parameter values for distribution with name \"min_samples_split\"! This might be a configuration mistake. Optuna allows to call the same distribution with the same name more than once in a trial. When the parameter values are inconsistent optuna only uses the values of the first call and ignores all following. Using these values: {'log': False, 'step': 1, 'low': 2, 'high': 15}\n",
      "  warnings.warn(\n",
      "[I 2023-06-18 20:56:57,726] Trial 24 finished with value: 0.9797246803135116 and parameters: {'n_estimators': 267, 'criterion': 'gini', 'max_depth': 7, 'min_samples_split': 3, 'oob_score': True}. Best is trial 22 with value: 0.9834346607110434.\n",
      "c:\\Users\\pc\\anaconda3\\envs\\Section4_project\\lib\\site-packages\\optuna\\trial\\_trial.py:677: RuntimeWarning: Inconsistent parameter values for distribution with name \"min_samples_split\"! This might be a configuration mistake. Optuna allows to call the same distribution with the same name more than once in a trial. When the parameter values are inconsistent optuna only uses the values of the first call and ignores all following. Using these values: {'log': False, 'step': 1, 'low': 2, 'high': 15}\n",
      "  warnings.warn(\n",
      "[I 2023-06-18 20:56:59,548] Trial 25 finished with value: 0.9807414878860651 and parameters: {'n_estimators': 296, 'criterion': 'gini', 'max_depth': 10, 'min_samples_split': 8, 'oob_score': True}. Best is trial 22 with value: 0.9834346607110434.\n",
      "c:\\Users\\pc\\anaconda3\\envs\\Section4_project\\lib\\site-packages\\optuna\\trial\\_trial.py:677: RuntimeWarning: Inconsistent parameter values for distribution with name \"min_samples_split\"! This might be a configuration mistake. Optuna allows to call the same distribution with the same name more than once in a trial. When the parameter values are inconsistent optuna only uses the values of the first call and ignores all following. Using these values: {'log': False, 'step': 1, 'low': 2, 'high': 15}\n",
      "  warnings.warn(\n",
      "[I 2023-06-18 20:57:03,384] Trial 26 finished with value: 0.9811576343696272 and parameters: {'n_estimators': 647, 'criterion': 'entropy', 'max_depth': 9, 'min_samples_split': 5, 'oob_score': True}. Best is trial 22 with value: 0.9834346607110434.\n",
      "c:\\Users\\pc\\anaconda3\\envs\\Section4_project\\lib\\site-packages\\optuna\\trial\\_trial.py:677: RuntimeWarning: Inconsistent parameter values for distribution with name \"min_samples_split\"! This might be a configuration mistake. Optuna allows to call the same distribution with the same name more than once in a trial. When the parameter values are inconsistent optuna only uses the values of the first call and ignores all following. Using these values: {'log': False, 'step': 1, 'low': 2, 'high': 15}\n",
      "  warnings.warn(\n",
      "[I 2023-06-18 20:57:06,506] Trial 27 finished with value: 0.9815620015350134 and parameters: {'n_estimators': 474, 'criterion': 'gini', 'max_depth': 8, 'min_samples_split': 3, 'oob_score': True}. Best is trial 22 with value: 0.9834346607110434.\n",
      "c:\\Users\\pc\\anaconda3\\envs\\Section4_project\\lib\\site-packages\\optuna\\trial\\_trial.py:677: RuntimeWarning: Inconsistent parameter values for distribution with name \"min_samples_split\"! This might be a configuration mistake. Optuna allows to call the same distribution with the same name more than once in a trial. When the parameter values are inconsistent optuna only uses the values of the first call and ignores all following. Using these values: {'log': False, 'step': 1, 'low': 2, 'high': 15}\n",
      "  warnings.warn(\n",
      "[I 2023-06-18 20:57:15,479] Trial 28 finished with value: 0.9819840376776637 and parameters: {'n_estimators': 1483, 'criterion': 'gini', 'max_depth': 10, 'min_samples_split': 8, 'oob_score': True}. Best is trial 22 with value: 0.9834346607110434.\n",
      "c:\\Users\\pc\\anaconda3\\envs\\Section4_project\\lib\\site-packages\\optuna\\trial\\_trial.py:677: RuntimeWarning: Inconsistent parameter values for distribution with name \"min_samples_split\"! This might be a configuration mistake. Optuna allows to call the same distribution with the same name more than once in a trial. When the parameter values are inconsistent optuna only uses the values of the first call and ignores all following. Using these values: {'log': False, 'step': 1, 'low': 2, 'high': 15}\n",
      "  warnings.warn(\n",
      "[I 2023-06-18 20:57:18,501] Trial 29 finished with value: 0.9754552664406047 and parameters: {'n_estimators': 880, 'criterion': 'gini', 'max_depth': 6, 'min_samples_split': 12, 'oob_score': False}. Best is trial 22 with value: 0.9834346607110434.\n",
      "c:\\Users\\pc\\anaconda3\\envs\\Section4_project\\lib\\site-packages\\optuna\\trial\\_trial.py:677: RuntimeWarning: Inconsistent parameter values for distribution with name \"min_samples_split\"! This might be a configuration mistake. Optuna allows to call the same distribution with the same name more than once in a trial. When the parameter values are inconsistent optuna only uses the values of the first call and ignores all following. Using these values: {'log': False, 'step': 1, 'low': 2, 'high': 15}\n",
      "  warnings.warn(\n",
      "[I 2023-06-18 20:57:20,702] Trial 30 finished with value: 0.9807650465224171 and parameters: {'n_estimators': 358, 'criterion': 'gini', 'max_depth': 8, 'min_samples_split': 5, 'oob_score': True}. Best is trial 22 with value: 0.9834346607110434.\n",
      "c:\\Users\\pc\\anaconda3\\envs\\Section4_project\\lib\\site-packages\\optuna\\trial\\_trial.py:677: RuntimeWarning: Inconsistent parameter values for distribution with name \"min_samples_split\"! This might be a configuration mistake. Optuna allows to call the same distribution with the same name more than once in a trial. When the parameter values are inconsistent optuna only uses the values of the first call and ignores all following. Using these values: {'log': False, 'step': 1, 'low': 2, 'high': 15}\n",
      "  warnings.warn(\n",
      "[I 2023-06-18 20:57:23,833] Trial 31 finished with value: 0.9832206978101743 and parameters: {'n_estimators': 531, 'criterion': 'gini', 'max_depth': 10, 'min_samples_split': 5, 'oob_score': True}. Best is trial 22 with value: 0.9834346607110434.\n",
      "c:\\Users\\pc\\anaconda3\\envs\\Section4_project\\lib\\site-packages\\optuna\\trial\\_trial.py:677: RuntimeWarning: Inconsistent parameter values for distribution with name \"min_samples_split\"! This might be a configuration mistake. Optuna allows to call the same distribution with the same name more than once in a trial. When the parameter values are inconsistent optuna only uses the values of the first call and ignores all following. Using these values: {'log': False, 'step': 1, 'low': 2, 'high': 15}\n",
      "  warnings.warn(\n",
      "[I 2023-06-18 20:57:28,221] Trial 32 finished with value: 0.9819722583594876 and parameters: {'n_estimators': 718, 'criterion': 'gini', 'max_depth': 9, 'min_samples_split': 6, 'oob_score': True}. Best is trial 22 with value: 0.9834346607110434.\n",
      "c:\\Users\\pc\\anaconda3\\envs\\Section4_project\\lib\\site-packages\\optuna\\trial\\_trial.py:677: RuntimeWarning: Inconsistent parameter values for distribution with name \"min_samples_split\"! This might be a configuration mistake. Optuna allows to call the same distribution with the same name more than once in a trial. When the parameter values are inconsistent optuna only uses the values of the first call and ignores all following. Using these values: {'log': False, 'step': 1, 'low': 2, 'high': 15}\n",
      "  warnings.warn(\n",
      "[I 2023-06-18 20:57:31,529] Trial 33 finished with value: 0.9823942945021379 and parameters: {'n_estimators': 556, 'criterion': 'gini', 'max_depth': 10, 'min_samples_split': 4, 'oob_score': True}. Best is trial 22 with value: 0.9834346607110434.\n",
      "c:\\Users\\pc\\anaconda3\\envs\\Section4_project\\lib\\site-packages\\optuna\\trial\\_trial.py:677: RuntimeWarning: Inconsistent parameter values for distribution with name \"min_samples_split\"! This might be a configuration mistake. Optuna allows to call the same distribution with the same name more than once in a trial. When the parameter values are inconsistent optuna only uses the values of the first call and ignores all following. Using these values: {'log': False, 'step': 1, 'low': 2, 'high': 15}\n",
      "  warnings.warn(\n",
      "[I 2023-06-18 20:57:34,858] Trial 34 finished with value: 0.9817641851177066 and parameters: {'n_estimators': 839, 'criterion': 'gini', 'max_depth': 9, 'min_samples_split': 7, 'oob_score': False}. Best is trial 22 with value: 0.9834346607110434.\n",
      "c:\\Users\\pc\\anaconda3\\envs\\Section4_project\\lib\\site-packages\\optuna\\trial\\_trial.py:677: RuntimeWarning: Inconsistent parameter values for distribution with name \"min_samples_split\"! This might be a configuration mistake. Optuna allows to call the same distribution with the same name more than once in a trial. When the parameter values are inconsistent optuna only uses the values of the first call and ignores all following. Using these values: {'log': False, 'step': 1, 'low': 2, 'high': 15}\n",
      "  warnings.warn(\n",
      "[I 2023-06-18 20:57:35,816] Trial 35 finished with value: 0.9822156695557969 and parameters: {'n_estimators': 155, 'criterion': 'gini', 'max_depth': 10, 'min_samples_split': 5, 'oob_score': True}. Best is trial 22 with value: 0.9834346607110434.\n",
      "c:\\Users\\pc\\anaconda3\\envs\\Section4_project\\lib\\site-packages\\optuna\\trial\\_trial.py:677: RuntimeWarning: Inconsistent parameter values for distribution with name \"min_samples_split\"! This might be a configuration mistake. Optuna allows to call the same distribution with the same name more than once in a trial. When the parameter values are inconsistent optuna only uses the values of the first call and ignores all following. Using these values: {'log': False, 'step': 1, 'low': 2, 'high': 15}\n",
      "  warnings.warn(\n",
      "[I 2023-06-18 20:57:37,797] Trial 36 finished with value: 0.9815620015350134 and parameters: {'n_estimators': 492, 'criterion': 'gini', 'max_depth': 8, 'min_samples_split': 3, 'oob_score': False}. Best is trial 22 with value: 0.9834346607110434.\n",
      "c:\\Users\\pc\\anaconda3\\envs\\Section4_project\\lib\\site-packages\\optuna\\trial\\_trial.py:677: RuntimeWarning: Inconsistent parameter values for distribution with name \"min_samples_split\"! This might be a configuration mistake. Optuna allows to call the same distribution with the same name more than once in a trial. When the parameter values are inconsistent optuna only uses the values of the first call and ignores all following. Using these values: {'log': False, 'step': 1, 'low': 2, 'high': 15}\n",
      "  warnings.warn(\n",
      "[I 2023-06-18 20:57:39,087] Trial 37 finished with value: 0.9817877437540586 and parameters: {'n_estimators': 215, 'criterion': 'gini', 'max_depth': 10, 'min_samples_split': 6, 'oob_score': True}. Best is trial 22 with value: 0.9834346607110434.\n",
      "c:\\Users\\pc\\anaconda3\\envs\\Section4_project\\lib\\site-packages\\optuna\\trial\\_trial.py:677: RuntimeWarning: Inconsistent parameter values for distribution with name \"min_samples_split\"! This might be a configuration mistake. Optuna allows to call the same distribution with the same name more than once in a trial. When the parameter values are inconsistent optuna only uses the values of the first call and ignores all following. Using these values: {'log': False, 'step': 1, 'low': 2, 'high': 15}\n",
      "  warnings.warn(\n",
      "[I 2023-06-18 20:57:44,517] Trial 38 finished with value: 0.9811635240287153 and parameters: {'n_estimators': 950, 'criterion': 'entropy', 'max_depth': 9, 'min_samples_split': 4, 'oob_score': True}. Best is trial 22 with value: 0.9834346607110434.\n",
      "c:\\Users\\pc\\anaconda3\\envs\\Section4_project\\lib\\site-packages\\optuna\\trial\\_trial.py:677: RuntimeWarning: Inconsistent parameter values for distribution with name \"min_samples_split\"! This might be a configuration mistake. Optuna allows to call the same distribution with the same name more than once in a trial. When the parameter values are inconsistent optuna only uses the values of the first call and ignores all following. Using these values: {'log': False, 'step': 1, 'low': 2, 'high': 15}\n",
      "  warnings.warn(\n",
      "[I 2023-06-18 20:57:45,583] Trial 39 finished with value: 0.929268980562274 and parameters: {'n_estimators': 350, 'criterion': 'gini', 'max_depth': 2, 'min_samples_split': 7, 'oob_score': False}. Best is trial 22 with value: 0.9834346607110434.\n",
      "c:\\Users\\pc\\anaconda3\\envs\\Section4_project\\lib\\site-packages\\optuna\\trial\\_trial.py:677: RuntimeWarning: Inconsistent parameter values for distribution with name \"min_samples_split\"! This might be a configuration mistake. Optuna allows to call the same distribution with the same name more than once in a trial. When the parameter values are inconsistent optuna only uses the values of the first call and ignores all following. Using these values: {'log': False, 'step': 1, 'low': 2, 'high': 15}\n",
      "  warnings.warn(\n",
      "[I 2023-06-18 20:57:49,657] Trial 40 finished with value: 0.9786960934227821 and parameters: {'n_estimators': 768, 'criterion': 'gini', 'max_depth': 7, 'min_samples_split': 2, 'oob_score': True}. Best is trial 22 with value: 0.9834346607110434.\n",
      "c:\\Users\\pc\\anaconda3\\envs\\Section4_project\\lib\\site-packages\\optuna\\trial\\_trial.py:677: RuntimeWarning: Inconsistent parameter values for distribution with name \"min_samples_split\"! This might be a configuration mistake. Optuna allows to call the same distribution with the same name more than once in a trial. When the parameter values are inconsistent optuna only uses the values of the first call and ignores all following. Using these values: {'log': False, 'step': 1, 'low': 2, 'high': 15}\n",
      "  warnings.warn(\n",
      "[I 2023-06-18 20:57:52,658] Trial 41 finished with value: 0.9830126245683931 and parameters: {'n_estimators': 511, 'criterion': 'gini', 'max_depth': 10, 'min_samples_split': 5, 'oob_score': True}. Best is trial 22 with value: 0.9834346607110434.\n",
      "c:\\Users\\pc\\anaconda3\\envs\\Section4_project\\lib\\site-packages\\optuna\\trial\\_trial.py:677: RuntimeWarning: Inconsistent parameter values for distribution with name \"min_samples_split\"! This might be a configuration mistake. Optuna allows to call the same distribution with the same name more than once in a trial. When the parameter values are inconsistent optuna only uses the values of the first call and ignores all following. Using these values: {'log': False, 'step': 1, 'low': 2, 'high': 15}\n",
      "  warnings.warn(\n",
      "[I 2023-06-18 20:57:56,164] Trial 42 finished with value: 0.9821803316012686 and parameters: {'n_estimators': 610, 'criterion': 'gini', 'max_depth': 9, 'min_samples_split': 6, 'oob_score': True}. Best is trial 22 with value: 0.9834346607110434.\n",
      "c:\\Users\\pc\\anaconda3\\envs\\Section4_project\\lib\\site-packages\\optuna\\trial\\_trial.py:677: RuntimeWarning: Inconsistent parameter values for distribution with name \"min_samples_split\"! This might be a configuration mistake. Optuna allows to call the same distribution with the same name more than once in a trial. When the parameter values are inconsistent optuna only uses the values of the first call and ignores all following. Using these values: {'log': False, 'step': 1, 'low': 2, 'high': 15}\n",
      "  warnings.warn(\n",
      "[I 2023-06-18 20:57:59,980] Trial 43 finished with value: 0.9826023677439188 and parameters: {'n_estimators': 668, 'criterion': 'gini', 'max_depth': 10, 'min_samples_split': 5, 'oob_score': True}. Best is trial 22 with value: 0.9834346607110434.\n",
      "c:\\Users\\pc\\anaconda3\\envs\\Section4_project\\lib\\site-packages\\optuna\\trial\\_trial.py:677: RuntimeWarning: Inconsistent parameter values for distribution with name \"min_samples_split\"! This might be a configuration mistake. Optuna allows to call the same distribution with the same name more than once in a trial. When the parameter values are inconsistent optuna only uses the values of the first call and ignores all following. Using these values: {'log': False, 'step': 1, 'low': 2, 'high': 15}\n",
      "  warnings.warn(\n",
      "[I 2023-06-18 20:58:02,331] Trial 44 finished with value: 0.9809613404460222 and parameters: {'n_estimators': 401, 'criterion': 'gini', 'max_depth': 8, 'min_samples_split': 4, 'oob_score': True}. Best is trial 22 with value: 0.9834346607110434.\n",
      "c:\\Users\\pc\\anaconda3\\envs\\Section4_project\\lib\\site-packages\\optuna\\trial\\_trial.py:677: RuntimeWarning: Inconsistent parameter values for distribution with name \"min_samples_split\"! This might be a configuration mistake. Optuna allows to call the same distribution with the same name more than once in a trial. When the parameter values are inconsistent optuna only uses the values of the first call and ignores all following. Using these values: {'log': False, 'step': 1, 'low': 2, 'high': 15}\n",
      "  warnings.warn(\n",
      "[I 2023-06-18 20:58:05,069] Trial 45 finished with value: 0.9819781480185756 and parameters: {'n_estimators': 481, 'criterion': 'entropy', 'max_depth': 10, 'min_samples_split': 10, 'oob_score': True}. Best is trial 22 with value: 0.9834346607110434.\n",
      "c:\\Users\\pc\\anaconda3\\envs\\Section4_project\\lib\\site-packages\\optuna\\trial\\_trial.py:677: RuntimeWarning: Inconsistent parameter values for distribution with name \"min_samples_split\"! This might be a configuration mistake. Optuna allows to call the same distribution with the same name more than once in a trial. When the parameter values are inconsistent optuna only uses the values of the first call and ignores all following. Using these values: {'log': False, 'step': 1, 'low': 2, 'high': 15}\n",
      "  warnings.warn(\n",
      "[I 2023-06-18 20:58:08,138] Trial 46 finished with value: 0.9821803316012686 and parameters: {'n_estimators': 548, 'criterion': 'gini', 'max_depth': 9, 'min_samples_split': 8, 'oob_score': True}. Best is trial 22 with value: 0.9834346607110434.\n",
      "c:\\Users\\pc\\anaconda3\\envs\\Section4_project\\lib\\site-packages\\optuna\\trial\\_trial.py:677: RuntimeWarning: Inconsistent parameter values for distribution with name \"min_samples_split\"! This might be a configuration mistake. Optuna allows to call the same distribution with the same name more than once in a trial. When the parameter values are inconsistent optuna only uses the values of the first call and ignores all following. Using these values: {'log': False, 'step': 1, 'low': 2, 'high': 15}\n",
      "  warnings.warn(\n",
      "[I 2023-06-18 20:58:08,870] Trial 47 finished with value: 0.982620036721183 and parameters: {'n_estimators': 181, 'criterion': 'gini', 'max_depth': 10, 'min_samples_split': 3, 'oob_score': False}. Best is trial 22 with value: 0.9834346607110434.\n",
      "c:\\Users\\pc\\anaconda3\\envs\\Section4_project\\lib\\site-packages\\optuna\\trial\\_trial.py:677: RuntimeWarning: Inconsistent parameter values for distribution with name \"min_samples_split\"! This might be a configuration mistake. Optuna allows to call the same distribution with the same name more than once in a trial. When the parameter values are inconsistent optuna only uses the values of the first call and ignores all following. Using these values: {'log': False, 'step': 1, 'low': 2, 'high': 15}\n",
      "  warnings.warn(\n",
      "[I 2023-06-18 20:58:10,742] Trial 48 finished with value: 0.9815737808531894 and parameters: {'n_estimators': 314, 'criterion': 'gini', 'max_depth': 10, 'min_samples_split': 15, 'oob_score': True}. Best is trial 22 with value: 0.9834346607110434.\n",
      "c:\\Users\\pc\\anaconda3\\envs\\Section4_project\\lib\\site-packages\\optuna\\trial\\_trial.py:677: RuntimeWarning: Inconsistent parameter values for distribution with name \"min_samples_split\"! This might be a configuration mistake. Optuna allows to call the same distribution with the same name more than once in a trial. When the parameter values are inconsistent optuna only uses the values of the first call and ignores all following. Using these values: {'log': False, 'step': 1, 'low': 2, 'high': 15}\n",
      "  warnings.warn(\n",
      "[I 2023-06-18 20:58:14,230] Trial 49 finished with value: 0.9809554507869342 and parameters: {'n_estimators': 592, 'criterion': 'entropy', 'max_depth': 8, 'min_samples_split': 6, 'oob_score': True}. Best is trial 22 with value: 0.9834346607110434.\n"
     ]
    },
    {
     "name": "stdout",
     "output_type": "stream",
     "text": [
      "Best trial: score0.9834346607110434,\n",
      " params{'n_estimators': 288, 'criterion': 'gini', 'max_depth': 10, 'min_samples_split': 5, 'oob_score': True}\n"
     ]
    }
   ],
   "source": [
    "def objective(trial: Trial, X, y, Xval,yval):\n",
    "    trial.suggest_float\n",
    "    params = {\n",
    "        \"n_estimators\" : trial.suggest_int('n_estimators', 100, 1500),\n",
    "        \"criterion\" : trial.suggest_categorical('criterion', [\"gini\",\"entropy\"]),\n",
    "        \"max_depth\" : trial.suggest_int('max_depth', 1,10 ),\n",
    "        \"min_samples_split\" : trial.suggest_int('min_samples_split', 2,15 ),\n",
    "        \"min_samples_leaf\" : trial.suggest_int('min_samples_split', 1,10 ),\n",
    "        \"oob_score\" : trial.suggest_categorical('oob_score', [True, False] ),\n",
    "        \"n_jobs\" : -1,\n",
    "        \"random_state\" : 2\n",
    "    }\n",
    "    model = RandomForestClassifier(**params)\n",
    "    RF_model = model.fit(X,y)\n",
    "    score = roc_auc_score(yval,RF_model.predict(Xval))\n",
    "    \n",
    "    return score\n",
    "study = optuna.create_study(direction='maximize')\n",
    "study.optimize(lambda trial : objective(trial, X_train,y_train,X_val,y_val), n_trials=50 )\n",
    "print('Best trial: score{},\\n params{}'.format(study.best_trial.value, study.best_trial.params))"
   ]
  },
  {
   "cell_type": "code",
   "execution_count": 19,
   "metadata": {},
   "outputs": [
    {
     "data": {
      "text/plain": [
       "{'n_estimators': 288,\n",
       " 'criterion': 'gini',\n",
       " 'max_depth': 10,\n",
       " 'min_samples_split': 5,\n",
       " 'oob_score': True}"
      ]
     },
     "execution_count": 19,
     "metadata": {},
     "output_type": "execute_result"
    }
   ],
   "source": [
    "study.best_trial.params"
   ]
  },
  {
   "cell_type": "code",
   "execution_count": 21,
   "metadata": {},
   "outputs": [
    {
     "data": {
      "text/plain": [
       "0.9821862212603568"
      ]
     },
     "execution_count": 21,
     "metadata": {},
     "output_type": "execute_result"
    }
   ],
   "source": [
    "model = RandomForestClassifier(**study.best_trial.params)\n",
    "model.fit(X_train,y_train)\n",
    "roc_auc_score(y_val, model.predict(X_val))"
   ]
  },
  {
   "cell_type": "code",
   "execution_count": 41,
   "metadata": {},
   "outputs": [],
   "source": [
    "with open('./lol_flask_app/views/model.pkl','wb') as file:\n",
    "    pickle.dump(model, file)"
   ]
  }
 ],
 "metadata": {
  "kernelspec": {
   "display_name": "Section4_project",
   "language": "python",
   "name": "python3"
  },
  "language_info": {
   "codemirror_mode": {
    "name": "ipython",
    "version": 3
   },
   "file_extension": ".py",
   "mimetype": "text/x-python",
   "name": "python",
   "nbconvert_exporter": "python",
   "pygments_lexer": "ipython3",
   "version": "3.8.0"
  },
  "orig_nbformat": 4
 },
 "nbformat": 4,
 "nbformat_minor": 2
}
